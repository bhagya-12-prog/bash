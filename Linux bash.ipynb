{
 "cells": [
  {
   "cell_type": "markdown",
   "id": "c1bd48f9",
   "metadata": {},
   "source": [
    "# 1. Introduction to shell scripting using python"
   ]
  },
  {
   "cell_type": "markdown",
   "id": "563ab89e",
   "metadata": {},
   "source": [
    "A shell script is a computer program designed to be run by the Unix/Linux shell which could be one of the following:\n",
    "\n",
    "1. The Bourne Shell\n",
    "2. The C Shell\n",
    "3. The Korn Shell\n",
    "4. The GNU Bourne-Again Shell\n",
    "\n",
    "A shell is a command-line interpreter and typical operations performed by shell scripts include file manipulation, program execution, and printing text."
   ]
  },
  {
   "cell_type": "markdown",
   "id": "8101b8dd",
   "metadata": {},
   "source": [
    "# Extended Shell Scripts"
   ]
  },
  {
   "cell_type": "markdown",
   "id": "f23529ef",
   "metadata": {},
   "source": [
    "Shell scripts have several required constructs that tell the shell environment what to do and when to do it."
   ]
  },
  {
   "cell_type": "raw",
   "id": "af0b1d17",
   "metadata": {
    "ExecuteTime": {
     "end_time": "2022-02-23T12:19:45.904097Z",
     "start_time": "2022-02-23T12:19:45.671291Z"
    }
   },
   "source": [
    "# Script follows here:\n",
    "\n",
    "echo \"What is your name?\"\n",
    "read PERSON\n",
    "echo \"Hello, $PERSON\""
   ]
  },
  {
   "cell_type": "markdown",
   "id": "8664536e",
   "metadata": {},
   "source": [
    "Ouput"
   ]
  },
  {
   "cell_type": "raw",
   "id": "e95b5b7b",
   "metadata": {},
   "source": [
    "$./test.sh\n",
    "What is your name?\n",
    "Zara Ali\n",
    "Hello, Zara Ali\n",
    "$"
   ]
  },
  {
   "cell_type": "markdown",
   "id": "2ef5ddf2",
   "metadata": {},
   "source": [
    "# 2. introduction to bash"
   ]
  },
  {
   "cell_type": "markdown",
   "id": "a630fc57",
   "metadata": {},
   "source": [
    "Bash is an acronym(e.g. ASCII, NASA ) of “Bourne-Again Shell”. It is a default command-line interpreter for UNIX and Linux based operating systems. In UNIX and Linux based operating systems, a terminal window is consist of a shell and Bash."
   ]
  },
  {
   "cell_type": "markdown",
   "id": "3f6915e9",
   "metadata": {},
   "source": [
    "Bash is the powerhouse of these systems, which includes Linux distributions as well as MacOS among others. Learning bash can be super useful to perform automation. I’m someone who is always installing a new OS, and setting all my configs and programs manually each time can be super painful, but thanks to a few bash commands that I created I can fully automate the procedure."
   ]
  },
  {
   "cell_type": "markdown",
   "id": "c807f34d",
   "metadata": {},
   "source": [
    "Using bash I can install software, download configs from the net, set up configurations for my desktop, and much more.\n",
    "\n",
    "Bash is super powerful and has lots of features. Today I’m going to present a few commands and statements that will help you automate a good deal of actions."
   ]
  },
  {
   "cell_type": "raw",
   "id": "5d193efb",
   "metadata": {},
   "source": [
    "In this basic guide of bash scripting, we will cover the following things:\n",
    "\n",
    "1.Echo command\n",
    "\n",
    "2.Comments in bash scripting file\n",
    "\n",
    "3.ls command\n",
    "\n",
    "4.Variables declaration and usage\n",
    "\n",
    "5.Conditional statement\n",
    "\n",
    "6.Loops in Bash"
   ]
  },
  {
   "cell_type": "markdown",
   "id": "316be603",
   "metadata": {},
   "source": [
    "1.Echo command\n",
    "\n",
    "        The echo command is the most fundamental and basic command in bash scripting. It is mainly used to print the text or output of the linux terminal. The echo command will print the text or data on the terminal whatever you will write."
   ]
  },
  {
   "cell_type": "raw",
   "id": "808d3d34",
   "metadata": {},
   "source": [
    "example :\n",
    "\n",
    "echo \"Hello everyone.\"\n",
    "echo \"We are executing the echo command\""
   ]
  },
  {
   "cell_type": "raw",
   "id": "f229fee6",
   "metadata": {},
   "source": [
    "output \n",
    "\n",
    "Hello everyone.\n",
    "We are executing the echo command"
   ]
  },
  {
   "cell_type": "markdown",
   "id": "d421c3d4",
   "metadata": {},
   "source": [
    "2.Comments in bash scripting file\n",
    "\n",
    "  Comments are the important part of computer programs. They are non-executable lines. Comments only enhance the readability of the code, and help to understand the purpose of our code or script. In bash scripting file, we can add the single line comments and multi-line comments. The single line comments start with ‘#’ symbol. The multi-line comments start with the single quote (‘) and : is used for adding lines of comments. Let’s see an example of comments in bash scripting."
   ]
  },
  {
   "cell_type": "raw",
   "id": "77748f56",
   "metadata": {},
   "source": [
    "example: \n",
    "\n",
    "# using the echo command\n",
    "# This is the single line comment\n",
    "echo \"Hello everyone. This is the example of single line comment\"\n",
    ": '\n",
    "This is the multi line comments\n",
    "lets print another echo command\n",
    "'\n",
    "echo \"Bash is intresting\""
   ]
  },
  {
   "cell_type": "markdown",
   "id": "5aa84abb",
   "metadata": {},
   "source": [
    "3.Variables declaration and usage\n",
    "\n",
    "Variables are declared to store the data or some information. Variables are the important aspect of any programming language. We can store some values or information in variables and later on we can use it. The declaration and usage of variables is very simple in bash. Variables are simply declared by writing the variable name. While accessing or using the variable name, we write ‘$’ symbol with the variable.\n",
    "\n",
    "Let’s declare the variable and use them in our bash scripting file."
   ]
  },
  {
   "cell_type": "raw",
   "id": "4056ec26",
   "metadata": {},
   "source": [
    "#declaring a variable\n",
    "VAR=\"Welcome to the bash scripting\"\n",
    "#using the variable\n",
    "echo $VAR\n",
    "\n",
    "#declaring the num1 variable\n",
    "num1=10\n",
    "#declaring the num2 variable\n",
    "num2=20\n",
    "#calculating the sum and storing it in num3 variable\n",
    "num3=$(($num1+$num2))\n",
    "#printing the sum\n",
    "echo \"The sum is:$num3\""
   ]
  },
  {
   "cell_type": "raw",
   "id": "488944cd",
   "metadata": {},
   "source": [
    "output \n",
    "\n",
    "Welcome to the bash scripting\n",
    "The sum is:30"
   ]
  },
  {
   "cell_type": "markdown",
   "id": "02c55a39",
   "metadata": {},
   "source": [
    "4.Conditional statement\n",
    "\n",
    "The conditional statements in Bash are used for decision making. In conditional statements a specific condition is evaluated. If the condition is true, then a certain block of code is executed. Otherwise, a second block of code is executed.\n",
    "\n",
    "Like other programming languages, in Bash, the if statement is used to evaluate a condition. We can evaluate one or multiple conditions inside the if block by using OR and AND operators. The if block starts with if keyword and ends with the fi keyword in Bash. If a certain condition is false, then the else block is executed."
   ]
  },
  {
   "cell_type": "markdown",
   "id": "6493c63d",
   "metadata": {},
   "source": [
    "Let’s see the execution of conditional statements in Bash. We have declared a variable. We are evaluating the value of variable and making decision based on the variable value. The –lt is used to make the less than comparison. For the comparison we can use, -gt for greater than, and -eq for equality."
   ]
  },
  {
   "cell_type": "raw",
   "id": "17827dc6",
   "metadata": {
    "ExecuteTime": {
     "end_time": "2022-02-24T05:43:31.437280Z",
     "start_time": "2022-02-24T05:43:31.326272Z"
    }
   },
   "source": [
    "#declaring a variable\n",
    "VAR=7\n",
    "if [ $VAR -lt 10 ];\n",
    "then\n",
    "\techo \"The number is less than 10\"\n",
    "else\n",
    "\techo \"The number is equal or greater than 10\"\n",
    "fi"
   ]
  },
  {
   "cell_type": "raw",
   "id": "4c4c8d5c",
   "metadata": {
    "ExecuteTime": {
     "end_time": "2022-02-24T06:44:28.253305Z",
     "start_time": "2022-02-24T06:44:28.233359Z"
    }
   },
   "source": [
    "output \n",
    "\n",
    "The number is less than 10"
   ]
  },
  {
   "cell_type": "markdown",
   "id": "59124866",
   "metadata": {},
   "source": [
    "Similarly, we can used OR and AND condition inside the if block to evaluate the multiple conditions. The double pipe sign (||) is used to specify the OR logic and && is used to define the and operator logic."
   ]
  },
  {
   "cell_type": "markdown",
   "id": "a2c92c06",
   "metadata": {},
   "source": [
    "Let’s see an example of OR logic in Bash."
   ]
  },
  {
   "cell_type": "raw",
   "id": "266fc99f",
   "metadata": {},
   "source": [
    "#declaring a variable\n",
    "VAR=7\n",
    "#using OR operator in if condition\n",
    "if [[ ( $VAR -gt 5 ) || ( $VAR -eq 7 ) ]]\n",
    "then\n",
    "\techo \"The number is greater than 5 or equal to 7\"\n",
    "else\n",
    "\techo \"The number is not greater than 5 nor equal to 7\"\n",
    "fi"
   ]
  },
  {
   "cell_type": "raw",
   "id": "1ed66483",
   "metadata": {},
   "source": [
    "output\n",
    "\n",
    "The number is greater than 5 or equal to 7"
   ]
  },
  {
   "cell_type": "markdown",
   "id": "e00aafc6",
   "metadata": {},
   "source": [
    "Now let’s implement the AND operator inside if condition. In the AND operator, both the conditions should be true."
   ]
  },
  {
   "cell_type": "raw",
   "id": "e4a8c527",
   "metadata": {},
   "source": [
    "#declaring a variable\n",
    "VAR=7\n",
    "#using AND operator in if condition\n",
    "if [[ ( $VAR -gt 5 ) && ( $VAR -lt 10 ) ]]\n",
    "then\n",
    "\techo \"Both the conditions satisfy\"\n",
    "else\n",
    "\techo \"Both the conditions do not satisfy\"\n",
    "fi"
   ]
  },
  {
   "cell_type": "raw",
   "id": "dc3fa889",
   "metadata": {},
   "source": [
    "output \n",
    "\n",
    "Both the conditions satisfy"
   ]
  },
  {
   "cell_type": "markdown",
   "id": "c90c9bc3",
   "metadata": {},
   "source": [
    "5.Loops in Bash\n",
    "\n",
    "The loops in Bash are used to execute the same block of code repeatedly. The while loop and for loop are the most commonly used loops in Bash.\n",
    "\n",
    "We will see the examples of while loop and for loop in this section.\n",
    "\n",
    "While loop in Bash\n",
    "\n",
    "The while loop is used to execute the code repeatedly. It evaluates the condition, and continue executing until the test condition is false.\n",
    "\n",
    "The syntax of while loop in Bash is as follows:"
   ]
  },
  {
   "cell_type": "raw",
   "id": "081e3f8c",
   "metadata": {},
   "source": [
    "while [ test_condition ]\n",
    "do\n",
    "\tstatements or commands\n",
    "done"
   ]
  },
  {
   "cell_type": "markdown",
   "id": "3485b4b0",
   "metadata": {},
   "source": [
    "If the test_condition is true, then do block is executed."
   ]
  },
  {
   "cell_type": "markdown",
   "id": "7e378181",
   "metadata": {},
   "source": [
    "# Example"
   ]
  },
  {
   "cell_type": "markdown",
   "id": "deb8993f",
   "metadata": {},
   "source": [
    "Let’s see an example of while loop. The loop continue execution until the value of variable is less than 10. Inside the do block, we are incrementing the value of variable by one on each iteration."
   ]
  },
  {
   "cell_type": "raw",
   "id": "78ff5acb",
   "metadata": {},
   "source": [
    "#declaring a variable\n",
    "VAR=1\n",
    "while [ $VAR -le 10 ]\n",
    "do\n",
    "       echo \"The vale is: $VAR\"\n",
    "       #Incrementing the variable by 1\n",
    "       (( VAR++ ))\n",
    "done"
   ]
  },
  {
   "cell_type": "raw",
   "id": "97f73564",
   "metadata": {},
   "source": [
    "output \n",
    "\n",
    "The vale is: 1\n",
    "The vale is: 2\n",
    "The vale is: 3\n",
    "The vale is: 4\n",
    "The vale is: 5\n",
    "The vale is: 6\n",
    "The vale is: 7\n",
    "The vale is: 8\n",
    "The vale is: 9\n",
    "The vale is: 10"
   ]
  },
  {
   "cell_type": "markdown",
   "id": "d78c2348",
   "metadata": {},
   "source": [
    "The loop terminated when the condition becomes false."
   ]
  },
  {
   "cell_type": "markdown",
   "id": "e082fcd1",
   "metadata": {},
   "source": [
    "6.The ls command\n",
    "\n",
    "The ls command is very basic shell command that you should be aware of. The ls command lists file and directory information in a file system. With various options, the ls command can be used. Let’s write the ls command in our myscript.sh file and execute it. "
   ]
  }
 ],
 "metadata": {
  "kernelspec": {
   "display_name": "Python 3 (ipykernel)",
   "language": "python",
   "name": "python3"
  },
  "language_info": {
   "codemirror_mode": {
    "name": "ipython",
    "version": 3
   },
   "file_extension": ".py",
   "mimetype": "text/x-python",
   "name": "python",
   "nbconvert_exporter": "python",
   "pygments_lexer": "ipython3",
   "version": "3.9.7"
  }
 },
 "nbformat": 4,
 "nbformat_minor": 5
}
